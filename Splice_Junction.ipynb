{
 "cells": [
  {
   "cell_type": "markdown",
   "metadata": {},
   "source": [
    "# Splice-junction Gene Sequences Data Set \n"
   ]
  },
  {
   "cell_type": "code",
   "execution_count": 1,
   "metadata": {
    "collapsed": true
   },
   "outputs": [],
   "source": [
    "\n",
    "#Imports\n",
    "%matplotlib inline\n",
    "import matplotlib.pyplot as plt\n",
    "import numpy as np\n",
    "import tensorflow as tf\n",
    "from tensorflow.contrib.layers import flatten\n",
    "import pickle\n",
    "import csv\n",
    "import collections\n",
    "from sklearn.preprocessing import OneHotEncoder\n",
    "from sklearn.metrics import confusion_matrix\n",
    "from sklearn.cross_validation import train_test_split\n",
    "import time\n",
    "from datetime import timedelta\n",
    "import math\n",
    "import cv2\n",
    "import matplotlib.gridspec as gridspec\n",
    "import os\n",
    "import random"
   ]
  },
  {
   "cell_type": "markdown",
   "metadata": {},
   "source": [
    "### DataSet \n",
    "Here I am loading the dataset and shuffling it as same classes are next to each other. After shuffling the data I am splitting them into label and data. Then it is divided into training, validation and test sets."
   ]
  },
  {
   "cell_type": "code",
   "execution_count": 2,
   "metadata": {
    "collapsed": false,
    "scrolled": false
   },
   "outputs": [],
   "source": [
    "#Loading the dataset\n",
    "dataFile=\"./splice.data\"\n",
    "with open(dataFile,mode='r') as f:\n",
    "    fileData=f.read()\n",
    "#File Parameters\n",
    "lineLength=100\n",
    "totalLines=len(fileData)//lineLength\n",
    "numClasses=3\n",
    "#Splitting dataset into lines\n",
    "dataLines=[]\n",
    "for lineCounter in range(totalLines):\n",
    "    line=fileData[(lineCounter*lineLength):(lineCounter*lineLength)+lineLength]\n",
    "    dataLines.append(line)\n",
    "assert(len(dataLines)==totalLines)"
   ]
  },
  {
   "cell_type": "code",
   "execution_count": 3,
   "metadata": {
    "collapsed": false,
    "scrolled": true
   },
   "outputs": [],
   "source": [
    "#All class examples are next to each other. So shuffling the list of dataLines\n",
    "from random import shuffle\n",
    "shuffle(dataLines)\n",
    "totalLabels=[]\n",
    "totalData=[]\n",
    "#Splitting lines into data and labels\n",
    "for line in range(totalLines):\n",
    "    label,instance,data=dataLines[line].split()\n",
    "    label=label.split(\",\")\n",
    "    label=label[0]\n",
    "    totalLabels.append(label)\n",
    "    totalData.append(data)\n",
    "assert(len(totalLabels)==totalLines)\n",
    "assert(len(totalData)==totalLines)\n",
    "dataLength=len(totalData[0])"
   ]
  },
  {
   "cell_type": "code",
   "execution_count": 4,
   "metadata": {
    "collapsed": false
   },
   "outputs": [],
   "source": [
    "#Convert totalData into onehot encoded images\n",
    "numDnaLtrs=8\n",
    "def dnaSeq2Vector(line):\n",
    "    dnaLtrDict={\"G\":[0,0,0,0,0,0,0,1],\n",
    "                \"N\":[0,0,0,0,0,0,1,0],\n",
    "                \"C\":[0,0,0,0,0,1,0,0],\n",
    "                \"S\":[0,0,0,0,1,0,0,0],\n",
    "                \"A\":[0,0,0,1,0,0,0,0],\n",
    "                \"D\":[0,0,1,0,0,0,0,0],\n",
    "                \"T\":[0,1,0,0,0,0,0,0],\n",
    "                \"R\":[1,0,0,0,0,0,0,0]}\n",
    "    return np.asarray([dnaLtrDict[letter] for letter in line])\n",
    "totalDataArr=np.zeros((totalLines,dataLength,numDnaLtrs))\n",
    "for line in range(totalLines):\n",
    "    totalDataArr[line]=dnaSeq2Vector(totalData[line])"
   ]
  },
  {
   "cell_type": "code",
   "execution_count": 5,
   "metadata": {
    "collapsed": true
   },
   "outputs": [],
   "source": [
    "testSize=0.2\n",
    "valSize=0.2\n",
    "testSplitDone=False\n",
    "valSplitDone=False"
   ]
  },
  {
   "cell_type": "code",
   "execution_count": 6,
   "metadata": {
    "collapsed": false
   },
   "outputs": [
    {
     "name": "stderr",
     "output_type": "stream",
     "text": [
      "/home/krishna/anaconda3/lib/python3.5/site-packages/ipykernel/__main__.py:3: VisibleDeprecationWarning: using a non-integer number instead of an integer will result in an error in the future\n",
      "  app.launch_new_instance()\n",
      "/home/krishna/anaconda3/lib/python3.5/site-packages/ipykernel/__main__.py:4: VisibleDeprecationWarning: using a non-integer number instead of an integer will result in an error in the future\n",
      "/home/krishna/anaconda3/lib/python3.5/site-packages/ipykernel/__main__.py:11: VisibleDeprecationWarning: using a non-integer number instead of an integer will result in an error in the future\n",
      "/home/krishna/anaconda3/lib/python3.5/site-packages/ipykernel/__main__.py:12: VisibleDeprecationWarning: using a non-integer number instead of an integer will result in an error in the future\n"
     ]
    }
   ],
   "source": [
    "#Split into train,validation and test data\n",
    "from sklearn.cross_validation import train_test_split\n",
    "trainData0Split=np.zeros(shape=[totalLines*(1-testSize),dataLength,numDnaLtrs])\n",
    "testData=np.zeros(shape=[totalLines*testSize,dataLength,numDnaLtrs])\n",
    "if(testSplitDone==False):\n",
    "    testSplitDone=True\n",
    "    trainData0Split,testData,trainLabels0Split,testLabels=train_test_split(\n",
    "                totalDataArr,totalLabels,test_size=testSize)\n",
    "assert((len(trainData0Split)+len(testData))==len(totalDataArr))\n",
    "#Splitting training data into val and train data\n",
    "trainData=np.zeros(shape=[totalLines*(1-testSize-valSize),dataLength,numDnaLtrs])\n",
    "valData=np.zeros(shape=[totalLines*(1-valSize),dataLength,numDnaLtrs])\n",
    "if(valSplitDone==False):\n",
    "    valSplitDone=True\n",
    "    trainData,valData,trainLabels,valLabels=train_test_split(\n",
    "                trainData0Split,trainLabels0Split,test_size=valSize,random_state=2)\n",
    "assert((len(trainData)+len(testData)+len(valData))==len(totalDataArr))"
   ]
  },
  {
   "cell_type": "code",
   "execution_count": 7,
   "metadata": {
    "collapsed": false
   },
   "outputs": [],
   "source": [
    "#Convert labels into numbers\n",
    "labelDict={\"EI\":0,\n",
    "           \"IE\":1,\n",
    "           \"N\" :2}\n",
    "def convLabels(Label):\n",
    "    return [labelDict[letter] for letter in Label]\n",
    "trainLabelsConv=np.asarray(convLabels(trainLabels))\n",
    "testLabelsConv=np.asarray(convLabels(testLabels))\n",
    "valLabelsConv=np.asarray(convLabels(valLabels))"
   ]
  },
  {
   "cell_type": "code",
   "execution_count": 8,
   "metadata": {
    "collapsed": false
   },
   "outputs": [],
   "source": [
    "from sklearn.preprocessing import OneHotEncoder\n",
    "def LabelEncoder(Labels,NumLabels):\n",
    "    \"\"\"Takes in Normal labels and returns onehot encoded labels\"\"\"\n",
    "    Encoder=OneHotEncoder()\n",
    "    Encoder.fit(np.arange(NumLabels).reshape(-1,1))\n",
    "    EncodedLabels=Encoder.transform(Labels.reshape(-1,1)).toarray()\n",
    "    return EncodedLabels\n",
    "TrainLabelsOHE=LabelEncoder(trainLabelsConv,numClasses)\n",
    "ValLabelsOHE  =LabelEncoder(valLabelsConv,numClasses)\n",
    "TestLabelsOHE =LabelEncoder(testLabelsConv,numClasses)"
   ]
  },
  {
   "cell_type": "code",
   "execution_count": 9,
   "metadata": {
    "collapsed": false
   },
   "outputs": [
    {
     "data": {
      "text/plain": [
       "<matplotlib.image.AxesImage at 0x7fbd5310b7b8>"
      ]
     },
     "execution_count": 9,
     "metadata": {},
     "output_type": "execute_result"
    },
    {
     "data": {
      "image/png": "[encoded data removed]",
      "text/plain": [
       "<matplotlib.figure.Figure at 0x7fbd53d62be0>"
      ]
     },
     "metadata": {},
     "output_type": "display_data"
    }
   ],
   "source": [
    "plt.imshow(trainData[0])"
   ]
  },
  {
   "cell_type": "code",
   "execution_count": 10,
   "metadata": {
    "collapsed": false
   },
   "outputs": [],
   "source": [
    "#Helper Functions for CNN Layers\n",
    "wname1=0\n",
    "wname2=100\n",
    "def CreateConvLayer(input,NumChnls,FilSize,NumFils,Stride=1,pooling=True):\n",
    "    global wname1\n",
    "    #Create shape of filter\n",
    "    FilterShape=[FilSize,FilSize,NumChnls,NumFils]\n",
    "    #Create variables for weights and Biases\n",
    "    wname1=wname1+1\n",
    "    Weights=tf.get_variable(\"Weights\"+str(wname1),\n",
    "                            shape=FilterShape,initializer=tf.contrib.layers.xavier_initializer())\n",
    "    Biases=tf.Variable(tf.constant(0.05,shape=[NumFils]))\n",
    "    #Convolution Output\n",
    "    ConvOpt=tf.nn.conv2d(input=input,filter=Weights,strides=[1,Stride,Stride,1],padding='SAME')\n",
    "    #Add ConvOpt to Biases\n",
    "    LayerOpt=tf.nn.bias_add(ConvOpt,Biases)\n",
    "    #MaxPooling\n",
    "    if(pooling==True):\n",
    "        LayerOpt=tf.nn.max_pool(LayerOpt,[1,2,2,1],[1,2,2,1],'SAME')\n",
    "    #Perform Relu\n",
    "    LayerOpt=tf.nn.relu(LayerOpt)\n",
    "    return LayerOpt,Weights\n",
    "#Flatten Layer to input to Fully Connected Layer\n",
    "def FlattenLayer(layer):\n",
    "    LayerShape=layer.get_shape()\n",
    "    NumFeatures =LayerShape[1:4].num_elements()\n",
    "    LayerFlat=tf.reshape(layer,[-1,NumFeatures])\n",
    "    return LayerFlat,NumFeatures\n",
    "#Fully Connected Layer\n",
    "def CreateFCLayer(input,NumInputs,NumOutputs,relu=True):\n",
    "    global wname2\n",
    "    #Weight Shape\n",
    "    WShape=[NumInputs,NumOutputs]\n",
    "    #Create Variables for Weights and Biases\n",
    "    wname2=wname2+1\n",
    "    Weights=tf.get_variable(\"Weights\"+str(wname2),\n",
    "                            shape=WShape,initializer=tf.contrib.layers.xavier_initializer())\n",
    "    Biases=tf.Variable(tf.constant(0.05,shape=[NumOutputs]))\n",
    "    #Calculate FC\n",
    "    FCLayer=tf.matmul(input,Weights)+Biases\n",
    "    if(relu==True):\n",
    "        FCLayer=tf.nn.relu(FCLayer)\n",
    "    return FCLayer, Weights"
   ]
  },
  {
   "cell_type": "code",
   "execution_count": 11,
   "metadata": {
    "collapsed": true
   },
   "outputs": [],
   "source": [
    "def seqCNN(x,dropVal):\n",
    "    FilterSize=[4,4]\n",
    "    NumFilters=[16,32]\n",
    "    FCSize=[64,32]\n",
    "    #Layer1\n",
    "    L1Conv, L1ConvWeight=CreateConvLayer(x,1,FilterSize[0],NumFilters[0])\n",
    "    #Layer2\n",
    "    L2Conv, L2ConvWeight =CreateConvLayer(L1Conv,NumFilters[0],FilterSize[1],NumFilters[1])  \n",
    "    FCFlat, NumFeatures=FlattenLayer(L2Conv)\n",
    "    FC1,FC1W=CreateFCLayer(FCFlat,NumFeatures,FCSize[0])\n",
    "    FC1=tf.nn.dropout(FC1,dropVal)\n",
    "    FC2,FC2W=CreateFCLayer(FC1,FCSize[0],FCSize[1])\n",
    "    FC2=tf.nn.dropout(FC2,dropVal)\n",
    "    FC5,FC5W=CreateFCLayer(FC2,FCSize[1],numClasses,relu=False)\n",
    "    return L1ConvWeight,L2ConvWeight,FC1W,FC2W,FC5W,FC5"
   ]
  },
  {
   "cell_type": "code",
   "execution_count": 12,
   "metadata": {
    "collapsed": false
   },
   "outputs": [],
   "source": [
    "ImgPHFlat=tf.placeholder(tf.float32,[None,dataLength,numDnaLtrs])\n",
    "ImgPHRS=tf.reshape(ImgPHFlat,[-1,dataLength,numDnaLtrs,1])\n",
    "#Placeholders for Labels\n",
    "LabelPH_OHE  =tf.placeholder(tf.float32,[None,numClasses])\n",
    "LabelPH_Plain=tf.placeholder(tf.float32,[None])\n",
    "#Placeholder for avoiding dropout during inference\n",
    "DropVal1=tf.placeholder(tf.float32)"
   ]
  },
  {
   "cell_type": "code",
   "execution_count": 13,
   "metadata": {
    "collapsed": false
   },
   "outputs": [],
   "source": [
    "#Running through network\n",
    "L1ConvWeight,L2ConvWeight,FC1W,FC2W,FC5W,NetworkOpt=seqCNN(ImgPHRS,dropVal=DropVal1)\n",
    "#Applying Softmax to predict\n",
    "ClassPredOHE = tf.nn.softmax(NetworkOpt)\n",
    "#Selecting the highest probability to get normal label\n",
    "ClassPred    = tf.argmax(ClassPredOHE, dimension=1)\n",
    "#Casting\n",
    "ClassPred    = tf.cast(ClassPred,tf.float32)"
   ]
  },
  {
   "cell_type": "code",
   "execution_count": 14,
   "metadata": {
    "collapsed": true
   },
   "outputs": [],
   "source": [
    "CrossEntorpy = tf.nn.softmax_cross_entropy_with_logits(logits=NetworkOpt,labels=LabelPH_OHE)\n",
    "Cost = tf.reduce_mean(CrossEntorpy)\n",
    "Optimizer = tf.train.AdamOptimizer(learning_rate=1e-4).minimize(Cost)"
   ]
  },
  {
   "cell_type": "code",
   "execution_count": 15,
   "metadata": {
    "collapsed": true
   },
   "outputs": [],
   "source": [
    "#Accuracy\n",
    "CorrectPred = tf.equal(ClassPred,LabelPH_Plain)\n",
    "Accuracy = tf.reduce_mean(tf.cast(CorrectPred, tf.float32))"
   ]
  },
  {
   "cell_type": "code",
   "execution_count": 16,
   "metadata": {
    "collapsed": true
   },
   "outputs": [],
   "source": [
    "#Initialization\n",
    "session=tf.Session()\n",
    "session.run(tf.global_variables_initializer())\n"
   ]
  },
  {
   "cell_type": "code",
   "execution_count": 17,
   "metadata": {
    "collapsed": true
   },
   "outputs": [],
   "source": [
    "TotalRuns=0\n",
    "BestValAcc=0.0\n",
    "def TrainCNN(NumRuns,BatchSize):\n",
    "    print(\"Training Started\")\n",
    "    global TotalRuns\n",
    "    global BestValAcc    \n",
    "    #Keep track of time to report at last\n",
    "    StartTime=time.time()\n",
    "    for i in range(TotalRuns,TotalRuns+NumRuns):\n",
    "        TotalRuns=TotalRuns+1\n",
    "        #Choose BatchSize number of indices randomly without replacement\n",
    "        TrainIndex=np.random.choice(len(trainData),BatchSize,replace=False)\n",
    "        #Dictionary for Optimizer\n",
    "        TrainDict= {\n",
    "            ImgPHFlat:trainData[TrainIndex,:],\n",
    "            DropVal1:0.5,\n",
    "            LabelPH_OHE:TrainLabelsOHE[TrainIndex,:]\n",
    "        }\n",
    "        #Running Optimizer\n",
    "        session.run(Optimizer,TrainDict)\n",
    "        #Dictionary for Calculating Training accuracy of this batch\n",
    "        TrainAccDict={\n",
    "            ImgPHFlat:trainData[TrainIndex,:],\n",
    "            DropVal1:1,\n",
    "            LabelPH_OHE:TrainLabelsOHE[TrainIndex,:],\n",
    "            LabelPH_Plain:trainLabelsConv[TrainIndex]\n",
    "        }\n",
    "        #For Every 500 Iterations give accuracy\n",
    "        if ((TotalRuns%50==0) or (i==(NumRuns-1))):\n",
    "            #Calculate Training Accuracy\n",
    "            TrainAcc=session.run(Accuracy,TrainAccDict)\n",
    "            ValAcc=CalAcc(\"Val\",BatchSize)\n",
    "            TestAcc=CalAcc(\"Test\",BatchSize)\n",
    "            #Saving good stuff\n",
    "            if (ValAcc>=BestValAcc):\n",
    "                BestValAcc=ValAcc\n",
    "                #saver.save(sess=session,save_path=SaveDir)\n",
    "                ImpStr=\"*\"\n",
    "            else:\n",
    "                ImpStr=\" \"\n",
    "            msg = \"Iter: {0:>6}, Train-Batch Accuracy: {1:>6.1%}, Validation Acc: {2:>6.1%} {3} Test Acc:{4:>4.1%}\"\n",
    "            print(msg.format(i + 1,TrainAcc,ValAcc,ImpStr,TestAcc))\n",
    "    #Ending and reporting results\n",
    "    EndTime=time.time()\n",
    "    TimeDelta=EndTime-StartTime\n",
    "    print(\"Total Time =\"+str(timedelta(seconds=int(round(TimeDelta)))))"
   ]
  },
  {
   "cell_type": "code",
   "execution_count": 18,
   "metadata": {
    "collapsed": false
   },
   "outputs": [
    {
     "name": "stdout",
     "output_type": "stream",
     "text": [
      "2041\n"
     ]
    }
   ],
   "source": [
    "print(len(trainData))"
   ]
  },
  {
   "cell_type": "code",
   "execution_count": 19,
   "metadata": {
    "collapsed": true
   },
   "outputs": [],
   "source": [
    "def CalAcc(Type=\"Val\",BatchSize=100):\n",
    "    AccuracyVal=0\n",
    "    if(Type==\"Val\"):\n",
    "        ValIndex=np.random.choice(len(valData),BatchSize,replace=False)\n",
    "        ValAccDict={\n",
    "            ImgPHFlat:valData[ValIndex,:],\n",
    "            DropVal1:1,            \n",
    "            LabelPH_OHE:ValLabelsOHE[ValIndex,:],\n",
    "            LabelPH_Plain:valLabelsConv[ValIndex]            \n",
    "        }\n",
    "        AccuracyVal=session.run(Accuracy,ValAccDict)\n",
    "    if(Type==\"Test\"):\n",
    "        TestIndex=np.random.choice(len(testData),BatchSize,replace=False)\n",
    "        TestAccDict={\n",
    "            ImgPHFlat:testData[TestIndex,:],\n",
    "            DropVal1:1,\n",
    "            LabelPH_OHE:TestLabelsOHE[TestIndex,:],\n",
    "            LabelPH_Plain:testLabelsConv[TestIndex]            \n",
    "        }\n",
    "        AccuracyVal=session.run(Accuracy,TestAccDict)\n",
    "    return AccuracyVal"
   ]
  },
  {
   "cell_type": "code",
   "execution_count": 20,
   "metadata": {
    "collapsed": false,
    "scrolled": false
   },
   "outputs": [
    {
     "name": "stdout",
     "output_type": "stream",
     "text": [
      "Training Started\n",
      "Iter:     50, Train-Batch Accuracy:  52.8%, Validation Acc:  52.4% * Test Acc:53.2%\n",
      "Iter:    100, Train-Batch Accuracy:  53.4%, Validation Acc:  52.2%   Test Acc:54.4%\n",
      "Iter:    150, Train-Batch Accuracy:  53.0%, Validation Acc:  53.6% * Test Acc:54.6%\n",
      "Iter:    200, Train-Batch Accuracy:  68.2%, Validation Acc:  62.0% * Test Acc:60.4%\n",
      "Iter:    250, Train-Batch Accuracy:  73.2%, Validation Acc:  70.0% * Test Acc:66.4%\n",
      "Iter:    300, Train-Batch Accuracy:  75.4%, Validation Acc:  73.6% * Test Acc:72.0%\n",
      "Iter:    350, Train-Batch Accuracy:  84.2%, Validation Acc:  80.2% * Test Acc:82.4%\n",
      "Iter:    400, Train-Batch Accuracy:  86.6%, Validation Acc:  83.6% * Test Acc:85.8%\n",
      "Iter:    450, Train-Batch Accuracy:  90.0%, Validation Acc:  88.4% * Test Acc:90.6%\n",
      "Iter:    500, Train-Batch Accuracy:  90.8%, Validation Acc:  89.8% * Test Acc:89.0%\n",
      "Iter:    550, Train-Batch Accuracy:  90.4%, Validation Acc:  90.2% * Test Acc:90.4%\n",
      "Iter:    600, Train-Batch Accuracy:  92.8%, Validation Acc:  93.0% * Test Acc:93.6%\n",
      "Iter:    650, Train-Batch Accuracy:  94.4%, Validation Acc:  93.8% * Test Acc:94.4%\n",
      "Iter:    700, Train-Batch Accuracy:  95.2%, Validation Acc:  93.6%   Test Acc:93.2%\n",
      "Iter:    750, Train-Batch Accuracy:  94.2%, Validation Acc:  95.2% * Test Acc:94.4%\n",
      "Iter:    800, Train-Batch Accuracy:  96.0%, Validation Acc:  95.0%   Test Acc:94.6%\n",
      "Iter:    850, Train-Batch Accuracy:  97.0%, Validation Acc:  95.0%   Test Acc:94.4%\n",
      "Iter:    900, Train-Batch Accuracy:  97.0%, Validation Acc:  95.4% * Test Acc:94.6%\n",
      "Iter:    950, Train-Batch Accuracy:  98.2%, Validation Acc:  94.6%   Test Acc:95.0%\n",
      "Iter:   1000, Train-Batch Accuracy:  97.8%, Validation Acc:  95.0%   Test Acc:95.6%\n",
      "Iter:   1050, Train-Batch Accuracy:  98.2%, Validation Acc:  95.6% * Test Acc:95.8%\n",
      "Iter:   1100, Train-Batch Accuracy:  97.6%, Validation Acc:  95.2%   Test Acc:95.4%\n",
      "Iter:   1150, Train-Batch Accuracy:  98.6%, Validation Acc:  95.4%   Test Acc:95.2%\n",
      "Iter:   1200, Train-Batch Accuracy:  98.4%, Validation Acc:  95.4%   Test Acc:96.6%\n",
      "Iter:   1250, Train-Batch Accuracy:  98.4%, Validation Acc:  95.8% * Test Acc:96.0%\n",
      "Iter:   1300, Train-Batch Accuracy:  99.0%, Validation Acc:  95.8% * Test Acc:96.2%\n",
      "Iter:   1350, Train-Batch Accuracy:  98.6%, Validation Acc:  95.6%   Test Acc:96.2%\n",
      "Iter:   1400, Train-Batch Accuracy:  99.8%, Validation Acc:  96.0% * Test Acc:96.0%\n",
      "Iter:   1450, Train-Batch Accuracy:  99.6%, Validation Acc:  95.8%   Test Acc:95.6%\n",
      "Iter:   1500, Train-Batch Accuracy:  99.8%, Validation Acc:  96.2% * Test Acc:95.6%\n",
      "Iter:   1550, Train-Batch Accuracy:  99.4%, Validation Acc:  95.8%   Test Acc:96.0%\n",
      "Iter:   1600, Train-Batch Accuracy:  99.8%, Validation Acc:  96.0%   Test Acc:96.2%\n",
      "Iter:   1650, Train-Batch Accuracy:  99.4%, Validation Acc:  96.0%   Test Acc:95.8%\n",
      "Iter:   1700, Train-Batch Accuracy:  99.8%, Validation Acc:  96.4% * Test Acc:96.8%\n",
      "Iter:   1750, Train-Batch Accuracy:  99.6%, Validation Acc:  96.0%   Test Acc:96.6%\n",
      "Iter:   1800, Train-Batch Accuracy:  99.6%, Validation Acc:  96.0%   Test Acc:96.0%\n",
      "Iter:   1850, Train-Batch Accuracy:  99.8%, Validation Acc:  95.8%   Test Acc:96.8%\n",
      "Iter:   1900, Train-Batch Accuracy:  99.8%, Validation Acc:  96.2%   Test Acc:96.2%\n",
      "Iter:   1950, Train-Batch Accuracy:  99.8%, Validation Acc:  96.0%   Test Acc:96.8%\n",
      "Iter:   2000, Train-Batch Accuracy:  99.6%, Validation Acc:  96.2%   Test Acc:96.4%\n",
      "Iter:   2050, Train-Batch Accuracy: 100.0%, Validation Acc:  96.0%   Test Acc:96.0%\n",
      "Iter:   2100, Train-Batch Accuracy: 100.0%, Validation Acc:  95.8%   Test Acc:97.2%\n",
      "Iter:   2150, Train-Batch Accuracy:  99.8%, Validation Acc:  96.0%   Test Acc:96.8%\n",
      "Iter:   2200, Train-Batch Accuracy: 100.0%, Validation Acc:  96.0%   Test Acc:96.0%\n",
      "Iter:   2250, Train-Batch Accuracy: 100.0%, Validation Acc:  96.2%   Test Acc:97.2%\n",
      "Iter:   2300, Train-Batch Accuracy:  99.8%, Validation Acc:  96.4% * Test Acc:96.2%\n",
      "Iter:   2350, Train-Batch Accuracy: 100.0%, Validation Acc:  95.8%   Test Acc:96.6%\n",
      "Iter:   2400, Train-Batch Accuracy: 100.0%, Validation Acc:  95.8%   Test Acc:96.4%\n",
      "Iter:   2450, Train-Batch Accuracy:  99.8%, Validation Acc:  96.4%   Test Acc:96.8%\n",
      "Iter:   2500, Train-Batch Accuracy: 100.0%, Validation Acc:  96.2%   Test Acc:96.8%\n",
      "Total Time =0:00:21\n"
     ]
    }
   ],
   "source": [
    "TrainCNN(2500,500)"
   ]
  },
  {
   "cell_type": "code",
   "execution_count": 24,
   "metadata": {
    "collapsed": false
   },
   "outputs": [
    {
     "ename": "NameError",
     "evalue": "name 'labelDict' is not defined",
     "output_type": "error",
     "traceback": [
      "\u001b[0;31m---------------------------------------------------------------------------\u001b[0m",
      "\u001b[0;31mNameError\u001b[0m                                 Traceback (most recent call last)",
      "\u001b[0;32m<ipython-input-24-678183397b77>\u001b[0m in \u001b[0;36m<module>\u001b[0;34m()\u001b[0m\n\u001b[1;32m      7\u001b[0m \u001b[0mVal\u001b[0m\u001b[0;34m=\u001b[0m\u001b[0msession\u001b[0m\u001b[0;34m.\u001b[0m\u001b[0mrun\u001b[0m\u001b[0;34m(\u001b[0m\u001b[0mClassPred\u001b[0m\u001b[0;34m,\u001b[0m\u001b[0mTestDict\u001b[0m\u001b[0;34m)\u001b[0m\u001b[0;34m\u001b[0m\u001b[0m\n\u001b[1;32m      8\u001b[0m \u001b[0mVal\u001b[0m\u001b[0;34m=\u001b[0m\u001b[0mVal\u001b[0m\u001b[0;34m.\u001b[0m\u001b[0mastype\u001b[0m\u001b[0;34m(\u001b[0m\u001b[0mint\u001b[0m\u001b[0;34m)\u001b[0m\u001b[0;34m\u001b[0m\u001b[0m\n\u001b[0;32m----> 9\u001b[0;31m \u001b[0mprint\u001b[0m\u001b[0;34m(\u001b[0m\u001b[0mlabelDict\u001b[0m\u001b[0;34m[\u001b[0m\u001b[0mVal\u001b[0m\u001b[0;34m[\u001b[0m\u001b[0;36m0\u001b[0m\u001b[0;34m]\u001b[0m\u001b[0;34m]\u001b[0m\u001b[0;34m)\u001b[0m\u001b[0;34m\u001b[0m\u001b[0m\n\u001b[0m",
      "\u001b[0;31mNameError\u001b[0m: name 'labelDict' is not defined"
     ]
    }
   ],
   "source": [
    "labels={0:\"EI\",1:\"IE\",2:\"N\"}\n",
    "def TestDnaSplice(str2test):\n",
    "    testString=dnaSeq2Vector(str2test)\n",
    "    TestDict={\n",
    "            ImgPHFlat:[testString,testString],\n",
    "            DropVal1:1,\n",
    "            LabelPH_OHE:TestLabelsOHE\n",
    "        }\n",
    "    Val=session.run(ClassPred,TestDict)\n",
    "    Val=Val.astype(int)\n",
    "    print(labels[Val[0]])\n"
   ]
  },
  {
   "cell_type": "code",
   "execution_count": null,
   "metadata": {
    "collapsed": true
   },
   "outputs": [],
   "source": []
  }
 ],
 "metadata": {
  "anaconda-cloud": {},
  "kernelspec": {
   "display_name": "Python [conda root]",
   "language": "python",
   "name": "conda-root-py"
  },
  "language_info": {
   "codemirror_mode": {
    "name": "ipython",
    "version": 3
   },
   "file_extension": ".py",
   "mimetype": "text/x-python",
   "name": "python",
   "nbconvert_exporter": "python",
   "pygments_lexer": "ipython3",
   "version": "3.5.2"
  }
 },
 "nbformat": 4,
 "nbformat_minor": 1
}
